{
 "cells": [
  {
   "cell_type": "code",
   "execution_count": 436,
   "id": "9fa96cf6-8202-494c-b65d-8d6cd5f96a08",
   "metadata": {},
   "outputs": [],
   "source": [
    "def jugar_gato():\n",
    "    play_game=True\n",
    "    print('---------------------')\n",
    "    print('| Bienvenido al GATO |')\n",
    "    print('---------------------\\n')\n",
    "    while play_game:\n",
    "        question=int(input(\"Presione 1 para jugar, 0 para salir\"))\n",
    "        if question < 0 or question > 1:\n",
    "            print(\"Opcion Invalida\")\n",
    "        else:\n",
    "            if question==0:\n",
    "                return False\n",
    "            elif question ==1:\n",
    "                return True\n",
    "               "
   ]
  },
  {
   "cell_type": "code",
   "execution_count": 437,
   "id": "fa891c07-dc8b-4272-b183-00a5b864f2e5",
   "metadata": {},
   "outputs": [],
   "source": [
    "def lleno():\n",
    "    lineas_completas=0\n",
    "    for i in tablero:\n",
    "        if tablero[i][0] and tablero[i][1] and tablero[i][2]:\n",
    "            lineas_completas+=1\n",
    "    return lineas_completas==3"
   ]
  },
  {
   "cell_type": "code",
   "execution_count": 438,
   "id": "2768ea07-ae55-439d-8c46-936e9a74419e",
   "metadata": {},
   "outputs": [],
   "source": [
    "def imprimir_tabla():\n",
    "    print()\n",
    "    for i in tablero:\n",
    "        print(tablero[i])\n",
    "    print()"
   ]
  },
  {
   "cell_type": "code",
   "execution_count": 439,
   "id": "2a813565-a5d6-4717-8c4f-14fbd375786a",
   "metadata": {},
   "outputs": [],
   "source": [
    "def player_mark(jugador,mark):\n",
    "    play=True\n",
    "    while play:\n",
    "        \n",
    "        x=int(input(\"Seleccione una Fila: \"))\n",
    "        if x < 1 or x > 3:\n",
    "            print(\"Posicion Invalida\")\n",
    "            x=0\n",
    "        else:\n",
    "            y=int(input(\"Seleccione una Columna: \"))\n",
    "            if y < 1 or y > 3:\n",
    "                print(\"Posicion Invalida\")\n",
    "            else:\n",
    "                if x==1:\n",
    "                    if tablero['matriz_1'][y-1]:\n",
    "                        print(\"Casilla ocupada\")\n",
    "                    else:\n",
    "                        tablero['matriz_1'][y-1]=mark\n",
    "                        play=False\n",
    "                elif x==2:\n",
    "                    if tablero['matriz_2'][y-1]:\n",
    "                        print(\"Casilla ocupada\")\n",
    "                    else:\n",
    "                        tablero['matriz_2'][y-1]=mark\n",
    "                        play=False\n",
    "                elif x==3:\n",
    "                    if tablero['matriz_3'][y-1]:\n",
    "                        print(\"Casilla ocupada\")\n",
    "                    else:\n",
    "                        tablero['matriz_3'][y-1]=mark\n",
    "                        play=False\n",
    "    for i in tablero:\n",
    "        if tablero[i][0]==mark and tablero[i][1]==mark and tablero[i][2]==mark:\n",
    "            print('\\n------------------')\n",
    "            print(f'| Player {jugador} WINS!!|')\n",
    "            print('------------------')\n",
    "            return True\n",
    "    for i in range(len(tablero)):\n",
    "        if tablero['matriz_1'][i]==mark and tablero['matriz_2'][i]==mark and tablero['matriz_3'][i]==mark:\n",
    "            print('\\n------------------')\n",
    "            print(f'| Player {jugador} WINS!!|')\n",
    "            print('------------------')\n",
    "            return True\n",
    "    if (tablero['matriz_1'][0]==mark and tablero['matriz_2'][1]==mark and tablero['matriz_3'][2]==mark) or (tablero['matriz_1'][2]==mark and tablero['matriz_2'][1]==mark and tablero['matriz_3'][0]==mark):\n",
    "        print('\\n------------------')\n",
    "        print(f'| Player {jugador} WINS!!|')\n",
    "        print('------------------')\n",
    "        return True"
   ]
  },
  {
   "cell_type": "code",
   "execution_count": 440,
   "id": "88b01f82-e5a8-4818-a14b-966b350ce8f9",
   "metadata": {},
   "outputs": [],
   "source": [
    "def replay():\n",
    "    play_game=True\n",
    "    print('------------------------')\n",
    "    print('| Deseas Jugar Otra Vez? |')\n",
    "    print('------------------------\\n')\n",
    "    while play_game:\n",
    "        question=int(input(\"Presione 1 para jugar, 0 para salir\"))\n",
    "        if question < 0 or question > 1:\n",
    "            print(\"Opcion Invalida\")\n",
    "        else:\n",
    "            if question==0:\n",
    "                return False\n",
    "            elif question ==1:\n",
    "                return True"
   ]
  },
  {
   "cell_type": "code",
   "execution_count": 442,
   "id": "c4636a10-31a9-43fc-9e6f-77746a5332cc",
   "metadata": {},
   "outputs": [
    {
     "name": "stdout",
     "output_type": "stream",
     "text": [
      "---------------------\n",
      "| Bienvenido al GATO |\n",
      "---------------------\n",
      "\n"
     ]
    },
    {
     "name": "stdin",
     "output_type": "stream",
     "text": [
      "Presione 1 para jugar, 0 para salir 1\n"
     ]
    },
    {
     "name": "stdout",
     "output_type": "stream",
     "text": [
      "\n",
      "['', '', '']\n",
      "['', '', '']\n",
      "['', '', '']\n",
      "\n",
      "--------Player 1--------\n"
     ]
    },
    {
     "name": "stdin",
     "output_type": "stream",
     "text": [
      "Seleccione una Fila:  1\n",
      "Seleccione una Columna:  1\n"
     ]
    },
    {
     "name": "stdout",
     "output_type": "stream",
     "text": [
      "\n",
      "['x', '', '']\n",
      "['', '', '']\n",
      "['', '', '']\n",
      "\n",
      "--------Player 2--------\n"
     ]
    },
    {
     "name": "stdin",
     "output_type": "stream",
     "text": [
      "Seleccione una Fila:  2\n",
      "Seleccione una Columna:  1\n"
     ]
    },
    {
     "name": "stdout",
     "output_type": "stream",
     "text": [
      "\n",
      "['x', '', '']\n",
      "['o', '', '']\n",
      "['', '', '']\n",
      "\n",
      "--------Player 1--------\n"
     ]
    },
    {
     "name": "stdin",
     "output_type": "stream",
     "text": [
      "Seleccione una Fila:  1\n",
      "Seleccione una Columna:  2\n"
     ]
    },
    {
     "name": "stdout",
     "output_type": "stream",
     "text": [
      "\n",
      "['x', 'x', '']\n",
      "['o', '', '']\n",
      "['', '', '']\n",
      "\n",
      "--------Player 2--------\n"
     ]
    },
    {
     "name": "stdin",
     "output_type": "stream",
     "text": [
      "Seleccione una Fila:  2\n",
      "Seleccione una Columna:  2\n"
     ]
    },
    {
     "name": "stdout",
     "output_type": "stream",
     "text": [
      "\n",
      "['x', 'x', '']\n",
      "['o', 'o', '']\n",
      "['', '', '']\n",
      "\n",
      "--------Player 1--------\n"
     ]
    },
    {
     "name": "stdin",
     "output_type": "stream",
     "text": [
      "Seleccione una Fila:  1\n",
      "Seleccione una Columna:  3\n"
     ]
    },
    {
     "name": "stdout",
     "output_type": "stream",
     "text": [
      "\n",
      "------------------\n",
      "| Player 1 WINS!!|\n",
      "------------------\n",
      "\n",
      "['x', 'x', 'x']\n",
      "['o', 'o', '']\n",
      "['', '', '']\n",
      "\n",
      "------------------------\n",
      "| Deseas Jugar Otra Vez? |\n",
      "------------------------\n",
      "\n"
     ]
    },
    {
     "name": "stdin",
     "output_type": "stream",
     "text": [
      "Presione 1 para jugar, 0 para salir 1\n"
     ]
    },
    {
     "name": "stdout",
     "output_type": "stream",
     "text": [
      "\n",
      "['', '', '']\n",
      "['', '', '']\n",
      "['', '', '']\n",
      "\n",
      "--------Player 1--------\n"
     ]
    },
    {
     "name": "stdin",
     "output_type": "stream",
     "text": [
      "Seleccione una Fila:  1\n",
      "Seleccione una Columna:  1\n"
     ]
    },
    {
     "name": "stdout",
     "output_type": "stream",
     "text": [
      "\n",
      "['x', '', '']\n",
      "['', '', '']\n",
      "['', '', '']\n",
      "\n",
      "--------Player 2--------\n"
     ]
    },
    {
     "name": "stdin",
     "output_type": "stream",
     "text": [
      "Seleccione una Fila:  2\n",
      "Seleccione una Columna:  2\n"
     ]
    },
    {
     "name": "stdout",
     "output_type": "stream",
     "text": [
      "\n",
      "['x', '', '']\n",
      "['', 'o', '']\n",
      "['', '', '']\n",
      "\n",
      "--------Player 1--------\n"
     ]
    },
    {
     "name": "stdin",
     "output_type": "stream",
     "text": [
      "Seleccione una Fila:  2\n",
      "Seleccione una Columna:  1\n"
     ]
    },
    {
     "name": "stdout",
     "output_type": "stream",
     "text": [
      "\n",
      "['x', '', '']\n",
      "['x', 'o', '']\n",
      "['', '', '']\n",
      "\n",
      "--------Player 2--------\n"
     ]
    },
    {
     "name": "stdin",
     "output_type": "stream",
     "text": [
      "Seleccione una Fila:  2\n",
      "Seleccione una Columna:  3\n"
     ]
    },
    {
     "name": "stdout",
     "output_type": "stream",
     "text": [
      "\n",
      "['x', '', '']\n",
      "['x', 'o', 'o']\n",
      "['', '', '']\n",
      "\n",
      "--------Player 1--------\n"
     ]
    },
    {
     "name": "stdin",
     "output_type": "stream",
     "text": [
      "Seleccione una Fila:  1\n",
      "Seleccione una Columna:  1\n"
     ]
    },
    {
     "name": "stdout",
     "output_type": "stream",
     "text": [
      "Casilla ocupada\n"
     ]
    },
    {
     "name": "stdin",
     "output_type": "stream",
     "text": [
      "Seleccione una Fila:  3\n",
      "Seleccione una Columna:  1\n"
     ]
    },
    {
     "name": "stdout",
     "output_type": "stream",
     "text": [
      "\n",
      "------------------\n",
      "| Player 1 WINS!!|\n",
      "------------------\n",
      "\n",
      "['x', '', '']\n",
      "['x', 'o', 'o']\n",
      "['x', '', '']\n",
      "\n",
      "------------------------\n",
      "| Deseas Jugar Otra Vez? |\n",
      "------------------------\n",
      "\n"
     ]
    },
    {
     "name": "stdin",
     "output_type": "stream",
     "text": [
      "Presione 1 para jugar, 0 para salir 0\n"
     ]
    }
   ],
   "source": [
    "answer=False\n",
    "answer=jugar_gato()\n",
    "while answer:\n",
    "    tablero={\n",
    "        \"matriz_1\":['','',''],\n",
    "        \"matriz_2\":['','',''],\n",
    "        \"matriz_3\":['','','']\n",
    "    }\n",
    "    game_over=False\n",
    "    imprimir_tabla()\n",
    "    while game_over is not (True):\n",
    "        #Usuario 1\n",
    "        print('--------Player 1--------')\n",
    "        game_over=player_mark('1','x')\n",
    "        imprimir_tabla()\n",
    "        if game_over:\n",
    "            break\n",
    "        #Chech Game Over\n",
    "        game_over=lleno()\n",
    "        if game_over:\n",
    "            print('\\nEMPATE\\n')\n",
    "            break\n",
    "        #Usuario 2\n",
    "        print('--------Player 2--------')\n",
    "        game_over=player_mark('2','o')\n",
    "        imprimir_tabla()\n",
    "        if game_over:\n",
    "            break\n",
    "    answer=replay()\n"
   ]
  },
  {
   "cell_type": "code",
   "execution_count": null,
   "id": "4ca3534e-a33e-4069-aea4-44bfece95082",
   "metadata": {},
   "outputs": [],
   "source": []
  },
  {
   "cell_type": "code",
   "execution_count": null,
   "id": "d536fc36-36b9-4627-81fd-20d45e5c0ad2",
   "metadata": {},
   "outputs": [],
   "source": []
  }
 ],
 "metadata": {
  "kernelspec": {
   "display_name": "Python 3",
   "language": "python",
   "name": "python3"
  },
  "language_info": {
   "codemirror_mode": {
    "name": "ipython",
    "version": 3
   },
   "file_extension": ".py",
   "mimetype": "text/x-python",
   "name": "python",
   "nbconvert_exporter": "python",
   "pygments_lexer": "ipython3",
   "version": "3.11.5"
  }
 },
 "nbformat": 4,
 "nbformat_minor": 5
}
